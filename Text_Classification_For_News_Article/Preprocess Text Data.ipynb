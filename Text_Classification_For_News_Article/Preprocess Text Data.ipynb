{
 "cells": [
  {
   "cell_type": "markdown",
   "id": "0618fe1d-8900-4edb-a58b-471cb85462f3",
   "metadata": {},
   "source": [
    "# Case Changing"
   ]
  },
  {
   "cell_type": "code",
   "execution_count": 2,
   "id": "31f30e44-445b-4480-bc94-eafce821b7fb",
   "metadata": {},
   "outputs": [],
   "source": [
    "import pandas as pd"
   ]
  },
  {
   "cell_type": "code",
   "execution_count": 30,
   "id": "b589f040-859a-4208-84d3-480862b39264",
   "metadata": {},
   "outputs": [],
   "source": [
    "def lowercase(text):\n",
    "    text = str(text)\n",
    "    text = text.lower()\n",
    "    return text"
   ]
  },
  {
   "cell_type": "code",
   "execution_count": 3,
   "id": "ef6465a0-075e-43cc-9b75-f5435cb16358",
   "metadata": {},
   "outputs": [
    {
     "data": {
      "text/plain": [
       "(2826, 3)"
      ]
     },
     "execution_count": 3,
     "metadata": {},
     "output_type": "execute_result"
    }
   ],
   "source": [
    "data = pd.read_csv('News_Data.csv')\n",
    "data['NewsContent'] = data['NewsContent'].apply(lowercase)\n",
    "data['NewsCategory'] = data['NewsCategory'].apply(lowercase)\n",
    "data.shape"
   ]
  },
  {
   "cell_type": "code",
   "execution_count": 59,
   "id": "6e700668-39b5-4e52-b3ba-20587f582f27",
   "metadata": {},
   "outputs": [],
   "source": [
    "data.to_csv('News_Data.csv',index=False)"
   ]
  },
  {
   "cell_type": "code",
   "execution_count": 58,
   "id": "0c4a7255-69a2-41b5-a58d-ed922be9a32a",
   "metadata": {},
   "outputs": [
    {
     "data": {
      "text/html": [
       "<div>\n",
       "<style scoped>\n",
       "    .dataframe tbody tr th:only-of-type {\n",
       "        vertical-align: middle;\n",
       "    }\n",
       "\n",
       "    .dataframe tbody tr th {\n",
       "        vertical-align: top;\n",
       "    }\n",
       "\n",
       "    .dataframe thead th {\n",
       "        text-align: right;\n",
       "    }\n",
       "</style>\n",
       "<table border=\"1\" class=\"dataframe\">\n",
       "  <thead>\n",
       "    <tr style=\"text-align: right;\">\n",
       "      <th></th>\n",
       "      <th>ID</th>\n",
       "      <th>NewsContent</th>\n",
       "      <th>NewsCategory</th>\n",
       "    </tr>\n",
       "  </thead>\n",
       "  <tbody>\n",
       "    <tr>\n",
       "      <th>0</th>\n",
       "      <td>1</td>\n",
       "      <td>dragged by cops for questioning for being in a...</td>\n",
       "      <td>sports</td>\n",
       "    </tr>\n",
       "    <tr>\n",
       "      <th>1</th>\n",
       "      <td>2</td>\n",
       "      <td>prasidh krishna sai sudharsan sparkle as gujar...</td>\n",
       "      <td>sports</td>\n",
       "    </tr>\n",
       "    <tr>\n",
       "      <th>2</th>\n",
       "      <td>3</td>\n",
       "      <td>with the ball not coming on the wheels came of...</td>\n",
       "      <td>sports</td>\n",
       "    </tr>\n",
       "    <tr>\n",
       "      <th>3</th>\n",
       "      <td>4</td>\n",
       "      <td>gujarat titans choice to pick a blacksoil slug...</td>\n",
       "      <td>sports</td>\n",
       "    </tr>\n",
       "    <tr>\n",
       "      <th>4</th>\n",
       "      <td>5</td>\n",
       "      <td>the timeout at the end of the eight over of th...</td>\n",
       "      <td>sports</td>\n",
       "    </tr>\n",
       "    <tr>\n",
       "      <th>...</th>\n",
       "      <td>...</td>\n",
       "      <td>...</td>\n",
       "      <td>...</td>\n",
       "    </tr>\n",
       "    <tr>\n",
       "      <th>2865</th>\n",
       "      <td>2922</td>\n",
       "      <td>he also said the recent liquidity injections a...</td>\n",
       "      <td>businessandeconmics</td>\n",
       "    </tr>\n",
       "    <tr>\n",
       "      <th>2866</th>\n",
       "      <td>2923</td>\n",
       "      <td>with an elevated cd ratio the competition for ...</td>\n",
       "      <td>businessandeconmics</td>\n",
       "    </tr>\n",
       "    <tr>\n",
       "      <th>2867</th>\n",
       "      <td>2924</td>\n",
       "      <td>with expectations of a cumulative bps cut in t...</td>\n",
       "      <td>businessandeconmics</td>\n",
       "    </tr>\n",
       "    <tr>\n",
       "      <th>2868</th>\n",
       "      <td>2925</td>\n",
       "      <td>asset quality remains monitorable amid broader...</td>\n",
       "      <td>businessandeconmics</td>\n",
       "    </tr>\n",
       "    <tr>\n",
       "      <th>2869</th>\n",
       "      <td>2926</td>\n",
       "      <td>though we expect the profitability to trend do...</td>\n",
       "      <td>businessandeconmics</td>\n",
       "    </tr>\n",
       "  </tbody>\n",
       "</table>\n",
       "<p>2870 rows × 3 columns</p>\n",
       "</div>"
      ],
      "text/plain": [
       "        ID                                        NewsContent  \\\n",
       "0        1  dragged by cops for questioning for being in a...   \n",
       "1        2  prasidh krishna sai sudharsan sparkle as gujar...   \n",
       "2        3  with the ball not coming on the wheels came of...   \n",
       "3        4  gujarat titans choice to pick a blacksoil slug...   \n",
       "4        5  the timeout at the end of the eight over of th...   \n",
       "...    ...                                                ...   \n",
       "2865  2922  he also said the recent liquidity injections a...   \n",
       "2866  2923  with an elevated cd ratio the competition for ...   \n",
       "2867  2924  with expectations of a cumulative bps cut in t...   \n",
       "2868  2925  asset quality remains monitorable amid broader...   \n",
       "2869  2926  though we expect the profitability to trend do...   \n",
       "\n",
       "             NewsCategory  \n",
       "0                  sports  \n",
       "1                  sports  \n",
       "2                  sports  \n",
       "3                  sports  \n",
       "4                  sports  \n",
       "...                   ...  \n",
       "2865  businessandeconmics  \n",
       "2866  businessandeconmics  \n",
       "2867  businessandeconmics  \n",
       "2868  businessandeconmics  \n",
       "2869  businessandeconmics  \n",
       "\n",
       "[2870 rows x 3 columns]"
      ]
     },
     "execution_count": 58,
     "metadata": {},
     "output_type": "execute_result"
    }
   ],
   "source": [
    "data"
   ]
  },
  {
   "cell_type": "markdown",
   "id": "0b107c63-7cf6-48c2-9a87-88898ae4f4df",
   "metadata": {},
   "source": [
    "# Removing Symbols"
   ]
  },
  {
   "cell_type": "code",
   "execution_count": null,
   "id": "40116ada-2fcc-411e-bfef-aae56fe28e18",
   "metadata": {},
   "outputs": [],
   "source": [
    "import re\n",
    "import pandas as pd\n",
    "\n",
    "emoji_pattern = re.compile(\"[\"\n",
    "    u\"\\U0001F600-\\U0001F64F\"  # emoticons\n",
    "    u\"\\U0001F300-\\U0001F5FF\"  # symbols & pictographs\n",
    "    u\"\\U0001F680-\\U0001F6FF\"  # transport & map symbols\n",
    "    u\"\\U0001F1E0-\\U0001F1FF\"  # flags\n",
    "    u\"\\U00002700-\\U000027BF\"  # other symbols\n",
    "    u\"\\U000024C2-\\U0001F251\"  # enclosed characters\n",
    "\"]+\", flags=re.UNICODE)\n",
    "\n",
    "def symbols_remover(text):\n",
    "    text = str(text)                           # Ensure text is string\n",
    "    text = emoji_pattern.sub(r'', text)        # Remove emojis\n",
    "    text = re.sub(r'[^A-Za-z0-9\\s]', '', text) # Remove symbols/punctuation\n",
    "    text = re.sub(r'\\d+', '', text)            # Remove Numeric values inbetween String  \n",
    "    text = re.sub(r'\\s+', ' ', text)           # Normalize whitespace\n",
    "    return text.strip()                        # Remove leading/trailing spaces"
   ]
  },
  {
   "cell_type": "code",
   "execution_count": null,
   "id": "dd46c1b8-c7d7-4e9e-a4b0-055a5c507747",
   "metadata": {},
   "outputs": [],
   "source": [
    "import pandas as pd\n",
    "data = pd.read_csv('News_Data.csv')\n",
    "data['NewsContent'] = data['NewsContent'].apply(symbols_remover)"
   ]
  },
  {
   "cell_type": "code",
   "execution_count": null,
   "id": "16990263-21ee-40b4-a35d-1f57c8b68d60",
   "metadata": {},
   "outputs": [],
   "source": [
    "data.to_csv('News_Data.csv',index=False)"
   ]
  },
  {
   "cell_type": "markdown",
   "id": "532feea7-bd8b-40b6-b7fb-05ac08222056",
   "metadata": {},
   "source": [
    "# Removing Small Content"
   ]
  },
  {
   "cell_type": "code",
   "execution_count": 1,
   "id": "70d86aa7-81f3-4c3d-8902-2773662f87dc",
   "metadata": {},
   "outputs": [],
   "source": [
    "import pandas as pd"
   ]
  },
  {
   "cell_type": "code",
   "execution_count": 71,
   "id": "2b82477d-f814-4675-9270-9235c3603149",
   "metadata": {},
   "outputs": [],
   "source": [
    "data = pd.read_csv('News_Data.csv')"
   ]
  },
  {
   "cell_type": "code",
   "execution_count": 72,
   "id": "af89c74c-9f63-4c90-b239-083666b8b38a",
   "metadata": {},
   "outputs": [],
   "source": [
    "def lencheck(text):\n",
    "    text = str(text)\n",
    "    text = text.split()\n",
    "    if len(text) < 5:\n",
    "        return \"\"\n",
    "    else:\n",
    "        return \" \".join(text)"
   ]
  },
  {
   "cell_type": "code",
   "execution_count": 73,
   "id": "b42f4207-cf9e-4380-8657-6ce62e125348",
   "metadata": {},
   "outputs": [],
   "source": [
    "data['NewsContent'] = data['NewsContent'].apply(lencheck)"
   ]
  },
  {
   "cell_type": "code",
   "execution_count": 74,
   "id": "94b4be53-3c74-4e66-922a-e6345c2d0ae0",
   "metadata": {},
   "outputs": [],
   "source": [
    "data.to_csv('sample_data.csv',index=0)"
   ]
  },
  {
   "cell_type": "markdown",
   "id": "338aee38-8cae-4e7f-bc9e-7288c24c56ac",
   "metadata": {},
   "source": [
    "# Removing NULL Values"
   ]
  },
  {
   "cell_type": "code",
   "execution_count": 95,
   "id": "d794773d-98dd-421d-b587-a0db4aa105db",
   "metadata": {},
   "outputs": [],
   "source": [
    "data = pd.read_csv('sample_data.csv')"
   ]
  },
  {
   "cell_type": "code",
   "execution_count": 91,
   "id": "376900d1-66b5-4446-8afd-16b562814e3c",
   "metadata": {},
   "outputs": [],
   "source": [
    "data = data.dropna(subset=['NewsContent'])"
   ]
  },
  {
   "cell_type": "code",
   "execution_count": 96,
   "id": "a425d99f-8d8f-4a26-8ab8-5e9fecf440f2",
   "metadata": {},
   "outputs": [],
   "source": [
    "data.to_csv('News_Data.csv',index=0)"
   ]
  },
  {
   "cell_type": "code",
   "execution_count": null,
   "id": "2927066d-2330-41f0-bb95-84dd651d500c",
   "metadata": {},
   "outputs": [],
   "source": []
  }
 ],
 "metadata": {
  "kernelspec": {
   "display_name": "Python 3 (ipykernel)",
   "language": "python",
   "name": "python3"
  },
  "language_info": {
   "codemirror_mode": {
    "name": "ipython",
    "version": 3
   },
   "file_extension": ".py",
   "mimetype": "text/x-python",
   "name": "python",
   "nbconvert_exporter": "python",
   "pygments_lexer": "ipython3",
   "version": "3.12.9"
  }
 },
 "nbformat": 4,
 "nbformat_minor": 5
}
