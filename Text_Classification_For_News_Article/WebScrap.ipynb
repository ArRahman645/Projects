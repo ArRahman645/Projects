{
 "cells": [
  {
   "cell_type": "code",
   "execution_count": 11,
   "id": "cb41b7c0-99ec-4bd2-96ff-e9dda0537a78",
   "metadata": {},
   "outputs": [
    {
     "name": "stdout",
     "output_type": "stream",
     "text": [
      "Empty DataFrame\n",
      "Columns: [ID, NewsContent, NewsCategory]\n",
      "Index: []\n"
     ]
    }
   ],
   "source": [
    "import pandas as pd\n",
    "'''news_data = pd.DataFrame(columns=[\"ID\", \"NewsContent\", \"NewsCategory\"])\n",
    "print(news_data)'''"
   ]
  },
  {
   "cell_type": "markdown",
   "id": "c18a3408-154c-4e18-8860-bbe8709efc10",
   "metadata": {},
   "source": [
    "# For Scraping"
   ]
  },
  {
   "cell_type": "code",
   "execution_count": 118,
   "id": "825ca0a3-c752-4b20-85bf-3c9f1189b6a8",
   "metadata": {},
   "outputs": [
    {
     "name": "stdout",
     "output_type": "stream",
     "text": [
      "Scraped Data:\n"
     ]
    }
   ],
   "source": [
    "import pandas as pd\n",
    "from bs4 import BeautifulSoup\n",
    "import requests\n",
    "\n",
    "# Function to scrape data and print it\n",
    "def scrape_and_print_data(url, css_selector_content):\n",
    "    response = requests.get(url)\n",
    "    soup = BeautifulSoup(response.content, 'html.parser')\n",
    "    \n",
    "    scraped_content = [element.get_text(strip=True) for element in soup.select(css_selector_content)]\n",
    "    \n",
    "    print(\"Scraped Data:\")\n",
    "    for content in scraped_content:\n",
    "        print(content)\n",
    "    \n",
    "    return scraped_content\n",
    "\n",
    "url = \"https://www.financialexpress.com/policy/economy-rbi-revises-inflation-estimates-to-4-economists-see-room-for-deeper-rate-cut-cycle-3804297/?ref=hometop_hp\"\n",
    "css_selector_content = \"#id_newsletter_subscription_popup , #pcl-full-content p , .font-medium.mb-2 , .heading-three\"\n",
    "# Scrape and print data\n",
    "scraped_content = scrape_and_print_data(url, css_selector_content)"
   ]
  },
  {
   "cell_type": "markdown",
   "id": "e9d3c038-5d23-4517-a82e-6f2c63b8d446",
   "metadata": {},
   "source": [
    "## For Adding the collected Data Into DataFrame"
   ]
  },
  {
   "cell_type": "code",
   "execution_count": 110,
   "id": "47acfa72-9230-4ae3-8b89-ab171f5eb3bc",
   "metadata": {},
   "outputs": [
    {
     "name": "stdout",
     "output_type": "stream",
     "text": [
      "        ID                                        NewsContent  \\\n",
      "0        1  Dragged by cops for questioning for being in a...   \n",
      "1        2  Prasidh Krishna, Sai Sudharsan sparkle as Guja...   \n",
      "2        3  With the ball not coming on, the wheels came o...   \n",
      "3        4  Gujarat Titans’ choice to pick a blacksoil slu...   \n",
      "4        5  The timeout at the end of the eight over of th...   \n",
      "...    ...                                                ...   \n",
      "2865  2922  He also said the recent liquidity injections a...   \n",
      "2866  2923  With an elevated CD ratio, the competition for...   \n",
      "2867  2924  With expectations of a cumulative 75 bps cut i...   \n",
      "2868  2925  Asset quality remains monitorable amid broader...   \n",
      "2869  2926  Though we expect the profitability to trend do...   \n",
      "\n",
      "           NewsCategory  \n",
      "0                Sports  \n",
      "1                Sports  \n",
      "2                Sports  \n",
      "3                Sports  \n",
      "4                Sports  \n",
      "...                 ...  \n",
      "2865  Business&Econmics  \n",
      "2866  Business&Econmics  \n",
      "2867  Business&Econmics  \n",
      "2868  Business&Econmics  \n",
      "2869  Business&Econmics  \n",
      "\n",
      "[2870 rows x 3 columns]\n"
     ]
    }
   ],
   "source": [
    "def append_to_dataframe(df, scraped_content, category_name):\n",
    "    data_list = []\n",
    "    \n",
    "    for i, content in enumerate(scraped_content):\n",
    "        new_id = df[\"ID\"].max() + i + 1 if not df.empty else i + 1\n",
    "        data_list.append({\"ID\": new_id, \"NewsContent\": content, \"NewsCategory\": category_name})\n",
    "    \n",
    "    new_data = pd.DataFrame(data_list)\n",
    "    df = pd.concat([df, new_data], ignore_index=True)\n",
    "    return df\n",
    "\n",
    "news_data = pd.read_csv('News Data.csv')\n",
    "\n",
    "category_name = 'Business&Econmics'\n",
    "\n",
    "news_data = append_to_dataframe(news_data, scraped_content, category_name)\n",
    "\n",
    "# Display updated DataFrame\n",
    "print(news_data)\n"
   ]
  },
  {
   "cell_type": "code",
   "execution_count": 111,
   "id": "dbaee871-5c6c-483a-a5d5-82852cdb834f",
   "metadata": {},
   "outputs": [],
   "source": [
    "news_data.to_csv('News Data.csv', index=False)"
   ]
  },
  {
   "cell_type": "markdown",
   "id": "adca0f04-9174-4d3b-9cbe-07ac952d879e",
   "metadata": {},
   "source": [
    "# For Removing Unwanted Records"
   ]
  },
  {
   "cell_type": "code",
   "execution_count": 105,
   "id": "58116439-d7e2-4ca0-8b64-67b68989374f",
   "metadata": {},
   "outputs": [
    {
     "name": "stdout",
     "output_type": "stream",
     "text": [
      "Row with ID 2913 has been removed.\n"
     ]
    }
   ],
   "source": [
    "import pandas as pd\n",
    "\n",
    "def remove_row_by_id(csv_file, id_number, id_column='ID'):\n",
    "    df = pd.read_csv(csv_file)\n",
    "    df = df[df[id_column] != id_number]\n",
    "    df.to_csv(csv_file, index=False)\n",
    "    \n",
    "    print(f\"Row with ID {id_number} has been removed.\")\n",
    "\n",
    "csv_filename = 'News Data.csv'  \n",
    "id_remove_list = [2913]\n",
    "for i in range(len(id_remove_list)):\n",
    "    id_to_remove = id_remove_list[i]  \n",
    "    remove_row_by_id(csv_filename, id_to_remove)"
   ]
  },
  {
   "cell_type": "code",
   "execution_count": 49,
   "id": "bdeff81e-c005-4f36-a124-0f07ebcc71df",
   "metadata": {},
   "outputs": [
    {
     "name": "stdout",
     "output_type": "stream",
     "text": [
      "        ID                                        NewsContent NewsCategory\n",
      "0        1  Dragged by cops for questioning for being in a...       Sports\n",
      "1        2  Prasidh Krishna, Sai Sudharsan sparkle as Guja...       Sports\n",
      "2        3  With the ball not coming on, the wheels came o...       Sports\n",
      "3        4  Gujarat Titans’ choice to pick a blacksoil slu...       Sports\n",
      "4        5  The timeout at the end of the eight over of th...       Sports\n",
      "...    ...                                                ...          ...\n",
      "2806  2863  Critics note that the poor have paid the highe...     Business\n",
      "2807  2864  Still, Milei has maintained solid approval rat...     Business\n",
      "2808  2865  \"The agreement builds on the authorities' impr...     Business\n",
      "2809  2866  It remained unclear how much money Argentina w...     Business\n",
      "2810  2867  Milei shared the IMF statement on social media...     Business\n",
      "\n",
      "[2811 rows x 3 columns]\n"
     ]
    }
   ],
   "source": [
    "# Load dataset\n",
    "news_data = pd.read_csv('News Data.csv')\n",
    "\n",
    "# Replace values in the \"About\" column for ID range 290 to 318\n",
    "news_data.loc[(news_data[\"ID\"] >= 2860) & (news_data[\"ID\"] <= 2867), \"NewsCategory\"] = \"Business\"\n",
    "\n",
    "# Save back to CSV (optional)\n",
    "news_data.to_csv('News Data.csv', index=False)\n",
    "\n",
    "# Display updated DataFrame\n",
    "print(news_data)"
   ]
  },
  {
   "cell_type": "code",
   "execution_count": 112,
   "id": "dcf457c5-6aeb-4b88-a370-5c5874b0b45a",
   "metadata": {},
   "outputs": [],
   "source": [
    "import pandas as pd\n",
    "data = pd.read_csv('News Data.csv')"
   ]
  },
  {
   "cell_type": "markdown",
   "id": "5af2d3c2-7ac5-4d24-8c5f-c53cb2d9c4e9",
   "metadata": {},
   "source": [
    "## Counting The Records"
   ]
  },
  {
   "cell_type": "code",
   "execution_count": 113,
   "id": "0a702d0b-94e6-46bb-aa5f-92376aa44afa",
   "metadata": {},
   "outputs": [],
   "source": [
    "count = data['NewsCategory'].value_counts()"
   ]
  },
  {
   "cell_type": "code",
   "execution_count": 114,
   "id": "3656b693-f5a9-479c-8242-aa441f627c89",
   "metadata": {},
   "outputs": [
    {
     "data": {
      "text/plain": [
       "NewsCategory\n",
       "Education            377\n",
       "Politics             374\n",
       "Technology           366\n",
       "Entertainment        354\n",
       "Crime&Law            354\n",
       "Health&Medicine      354\n",
       "Sports               353\n",
       "Business&Econmics    338\n",
       "Name: count, dtype: int64"
      ]
     },
     "execution_count": 114,
     "metadata": {},
     "output_type": "execute_result"
    }
   ],
   "source": [
    "count"
   ]
  },
  {
   "cell_type": "code",
   "execution_count": null,
   "id": "23301185-11d5-4227-a0ec-42e52a5bb223",
   "metadata": {},
   "outputs": [],
   "source": []
  },
  {
   "cell_type": "code",
   "execution_count": null,
   "id": "dffe59d4-cbb8-4b81-bf7f-7d853bbd7c8f",
   "metadata": {},
   "outputs": [],
   "source": []
  },
  {
   "cell_type": "code",
   "execution_count": null,
   "id": "4f1462f5-f184-40e1-a9f0-4a1c6b0a366d",
   "metadata": {},
   "outputs": [],
   "source": []
  }
 ],
 "metadata": {
  "kernelspec": {
   "display_name": "Python 3 (ipykernel)",
   "language": "python",
   "name": "python3"
  },
  "language_info": {
   "codemirror_mode": {
    "name": "ipython",
    "version": 3
   },
   "file_extension": ".py",
   "mimetype": "text/x-python",
   "name": "python",
   "nbconvert_exporter": "python",
   "pygments_lexer": "ipython3",
   "version": "3.12.9"
  }
 },
 "nbformat": 4,
 "nbformat_minor": 5
}
