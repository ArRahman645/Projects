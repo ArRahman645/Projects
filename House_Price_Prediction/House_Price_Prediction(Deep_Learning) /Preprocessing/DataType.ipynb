{
 "cells": [
  {
   "cell_type": "code",
   "execution_count": 30,
   "id": "e9b99ab7-8563-49bc-b661-5c107e7eccc7",
   "metadata": {},
   "outputs": [],
   "source": [
    "import pandas as pd"
   ]
  },
  {
   "cell_type": "code",
   "execution_count": 31,
   "id": "21d2bf03-10c6-4310-8fef-bed97d633267",
   "metadata": {},
   "outputs": [
    {
     "data": {
      "text/html": [
       "<div>\n",
       "<style scoped>\n",
       "    .dataframe tbody tr th:only-of-type {\n",
       "        vertical-align: middle;\n",
       "    }\n",
       "\n",
       "    .dataframe tbody tr th {\n",
       "        vertical-align: top;\n",
       "    }\n",
       "\n",
       "    .dataframe thead th {\n",
       "        text-align: right;\n",
       "    }\n",
       "</style>\n",
       "<table border=\"1\" class=\"dataframe\">\n",
       "  <thead>\n",
       "    <tr style=\"text-align: right;\">\n",
       "      <th></th>\n",
       "      <th>bhk</th>\n",
       "      <th>propertytype</th>\n",
       "      <th>location</th>\n",
       "      <th>sqft</th>\n",
       "      <th>pricepersqft</th>\n",
       "      <th>totalprice</th>\n",
       "    </tr>\n",
       "  </thead>\n",
       "  <tbody>\n",
       "    <tr>\n",
       "      <th>0</th>\n",
       "      <td>3</td>\n",
       "      <td>Flat</td>\n",
       "      <td>Ahmedabad</td>\n",
       "      <td>1346.00</td>\n",
       "      <td>6233</td>\n",
       "      <td>15700000</td>\n",
       "    </tr>\n",
       "    <tr>\n",
       "      <th>1</th>\n",
       "      <td>4</td>\n",
       "      <td>Flat</td>\n",
       "      <td>Ahmedabad</td>\n",
       "      <td>1872.00</td>\n",
       "      <td>4873</td>\n",
       "      <td>17500000</td>\n",
       "    </tr>\n",
       "    <tr>\n",
       "      <th>2</th>\n",
       "      <td>4</td>\n",
       "      <td>Flat</td>\n",
       "      <td>Ahmedabad</td>\n",
       "      <td>1650.00</td>\n",
       "      <td>6733</td>\n",
       "      <td>20200000</td>\n",
       "    </tr>\n",
       "    <tr>\n",
       "      <th>3</th>\n",
       "      <td>5</td>\n",
       "      <td>Flat</td>\n",
       "      <td>Ahmedabad</td>\n",
       "      <td>10201.00</td>\n",
       "      <td>8499</td>\n",
       "      <td>86700000</td>\n",
       "    </tr>\n",
       "    <tr>\n",
       "      <th>4</th>\n",
       "      <td>3</td>\n",
       "      <td>Flat</td>\n",
       "      <td>Ahmedabad</td>\n",
       "      <td>968.00</td>\n",
       "      <td>5944</td>\n",
       "      <td>10400000</td>\n",
       "    </tr>\n",
       "    <tr>\n",
       "      <th>...</th>\n",
       "      <td>...</td>\n",
       "      <td>...</td>\n",
       "      <td>...</td>\n",
       "      <td>...</td>\n",
       "      <td>...</td>\n",
       "      <td>...</td>\n",
       "    </tr>\n",
       "    <tr>\n",
       "      <th>14114</th>\n",
       "      <td>2</td>\n",
       "      <td>House</td>\n",
       "      <td>Warangal</td>\n",
       "      <td>1000.00</td>\n",
       "      <td>9459</td>\n",
       "      <td>9000000</td>\n",
       "    </tr>\n",
       "    <tr>\n",
       "      <th>14115</th>\n",
       "      <td>2</td>\n",
       "      <td>House</td>\n",
       "      <td>Warangal</td>\n",
       "      <td>1710.00</td>\n",
       "      <td>12849</td>\n",
       "      <td>14000000</td>\n",
       "    </tr>\n",
       "    <tr>\n",
       "      <th>14116</th>\n",
       "      <td>2</td>\n",
       "      <td>House</td>\n",
       "      <td>Warangal</td>\n",
       "      <td>800.00</td>\n",
       "      <td>5575</td>\n",
       "      <td>2600000</td>\n",
       "    </tr>\n",
       "    <tr>\n",
       "      <th>14117</th>\n",
       "      <td>2</td>\n",
       "      <td>House</td>\n",
       "      <td>Warangal</td>\n",
       "      <td>1591.00</td>\n",
       "      <td>4200</td>\n",
       "      <td>15000000</td>\n",
       "    </tr>\n",
       "    <tr>\n",
       "      <th>14118</th>\n",
       "      <td>2</td>\n",
       "      <td>House</td>\n",
       "      <td>Warangal</td>\n",
       "      <td>1281.42</td>\n",
       "      <td>3</td>\n",
       "      <td>7000000</td>\n",
       "    </tr>\n",
       "  </tbody>\n",
       "</table>\n",
       "<p>14119 rows × 6 columns</p>\n",
       "</div>"
      ],
      "text/plain": [
       "       bhk propertytype   location      sqft  pricepersqft  totalprice\n",
       "0        3         Flat  Ahmedabad   1346.00          6233    15700000\n",
       "1        4         Flat  Ahmedabad   1872.00          4873    17500000\n",
       "2        4         Flat  Ahmedabad   1650.00          6733    20200000\n",
       "3        5         Flat  Ahmedabad  10201.00          8499    86700000\n",
       "4        3         Flat  Ahmedabad    968.00          5944    10400000\n",
       "...    ...          ...        ...       ...           ...         ...\n",
       "14114    2        House   Warangal   1000.00          9459     9000000\n",
       "14115    2        House   Warangal   1710.00         12849    14000000\n",
       "14116    2        House   Warangal    800.00          5575     2600000\n",
       "14117    2        House   Warangal   1591.00          4200    15000000\n",
       "14118    2        House   Warangal   1281.42             3     7000000\n",
       "\n",
       "[14119 rows x 6 columns]"
      ]
     },
     "execution_count": 31,
     "metadata": {},
     "output_type": "execute_result"
    }
   ],
   "source": [
    "data = pd.read_csv('HouseData.csv')\n",
    "data"
   ]
  },
  {
   "cell_type": "code",
   "execution_count": 32,
   "id": "32aa9909-a0c7-4b9d-b6b1-956fbeef0d0e",
   "metadata": {},
   "outputs": [
    {
     "data": {
      "text/plain": [
       "bhk               int64\n",
       "propertytype     object\n",
       "location         object\n",
       "sqft            float64\n",
       "pricepersqft      int64\n",
       "totalprice        int64\n",
       "dtype: object"
      ]
     },
     "execution_count": 32,
     "metadata": {},
     "output_type": "execute_result"
    }
   ],
   "source": [
    "data.dtypes"
   ]
  },
  {
   "cell_type": "code",
   "execution_count": 33,
   "id": "e8f8c766-4d72-4bc7-bc3e-13e6fff20f3c",
   "metadata": {},
   "outputs": [],
   "source": [
    "def convert(value):\n",
    "    value = str(value)\n",
    "    if len(value) == 1:\n",
    "        value = int(value)\n",
    "        value = value * 1000\n",
    "        return value\n",
    "    else:\n",
    "        return value"
   ]
  },
  {
   "cell_type": "code",
   "execution_count": 34,
   "id": "5c109fa1-6058-41a3-bf3b-b75f2bba60d5",
   "metadata": {},
   "outputs": [],
   "source": [
    "data['pricepersqft'] = data['pricepersqft'].apply(convert).astype(int)"
   ]
  },
  {
   "cell_type": "code",
   "execution_count": 35,
   "id": "48e5583b-7924-4944-8f8e-a96899755c10",
   "metadata": {},
   "outputs": [],
   "source": [
    "data['sqft'] = data['sqft'].astype(int)"
   ]
  },
  {
   "cell_type": "code",
   "execution_count": 36,
   "id": "60ae4658-f9a7-42b9-a11b-12aad4cfcb48",
   "metadata": {},
   "outputs": [
    {
     "data": {
      "text/plain": [
       "bhk              int64\n",
       "propertytype    object\n",
       "location        object\n",
       "sqft             int64\n",
       "pricepersqft     int64\n",
       "totalprice       int64\n",
       "dtype: object"
      ]
     },
     "execution_count": 36,
     "metadata": {},
     "output_type": "execute_result"
    }
   ],
   "source": [
    "data.dtypes"
   ]
  },
  {
   "cell_type": "code",
   "execution_count": 37,
   "id": "0ae04654-42b6-487e-b5fe-a5e11f1b2a06",
   "metadata": {},
   "outputs": [],
   "source": [
    "data.to_csv('HouseDetails.csv',index = False)"
   ]
  },
  {
   "cell_type": "code",
   "execution_count": null,
   "id": "11f6dcdb-0123-410a-90df-5e7798c5cf5e",
   "metadata": {},
   "outputs": [],
   "source": []
  }
 ],
 "metadata": {
  "kernelspec": {
   "display_name": "Python 3 (ipykernel)",
   "language": "python",
   "name": "python3"
  },
  "language_info": {
   "codemirror_mode": {
    "name": "ipython",
    "version": 3
   },
   "file_extension": ".py",
   "mimetype": "text/x-python",
   "name": "python",
   "nbconvert_exporter": "python",
   "pygments_lexer": "ipython3",
   "version": "3.12.9"
  }
 },
 "nbformat": 4,
 "nbformat_minor": 5
}
