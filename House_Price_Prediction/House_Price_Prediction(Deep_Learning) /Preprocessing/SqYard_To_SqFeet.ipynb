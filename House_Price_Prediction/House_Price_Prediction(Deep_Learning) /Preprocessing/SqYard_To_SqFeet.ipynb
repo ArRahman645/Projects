{
 "cells": [
  {
   "cell_type": "code",
   "execution_count": 344,
   "id": "7b2ece6f-e3c6-4de6-9b4b-8c1fc17d2a1d",
   "metadata": {},
   "outputs": [],
   "source": [
    "import pandas as pd"
   ]
  },
  {
   "cell_type": "code",
   "execution_count": 345,
   "id": "6783f5d8-c2bf-4f16-94db-5acf70714176",
   "metadata": {},
   "outputs": [
    {
     "data": {
      "text/plain": [
       "Index(['Unnamed: 0', 'data4'], dtype='object')"
      ]
     },
     "execution_count": 345,
     "metadata": {},
     "output_type": "execute_result"
    }
   ],
   "source": [
    "file_path = \"SqrFt.csv\"\n",
    "df = pd.read_csv(file_path)\n",
    "df.columns"
   ]
  },
  {
   "cell_type": "code",
   "execution_count": 346,
   "id": "18ad87b9-c90d-47c2-8791-b0f04eeb8217",
   "metadata": {},
   "outputs": [],
   "source": [
    "df.rename(columns={\"Unnamed: 0\": \"col1\",\"data4\":\"SqFt\"}, inplace=True)\n",
    "df = df.drop(\"col1\", axis=1)"
   ]
  },
  {
   "cell_type": "code",
   "execution_count": 347,
   "id": "87eeab2b-a217-4d10-ba10-17b87da69c0c",
   "metadata": {},
   "outputs": [
    {
     "data": {
      "text/html": [
       "<div>\n",
       "<style scoped>\n",
       "    .dataframe tbody tr th:only-of-type {\n",
       "        vertical-align: middle;\n",
       "    }\n",
       "\n",
       "    .dataframe tbody tr th {\n",
       "        vertical-align: top;\n",
       "    }\n",
       "\n",
       "    .dataframe thead th {\n",
       "        text-align: right;\n",
       "    }\n",
       "</style>\n",
       "<table border=\"1\" class=\"dataframe\">\n",
       "  <thead>\n",
       "    <tr style=\"text-align: right;\">\n",
       "      <th></th>\n",
       "      <th>SqFt</th>\n",
       "    </tr>\n",
       "  </thead>\n",
       "  <tbody>\n",
       "    <tr>\n",
       "      <th>0</th>\n",
       "      <td>3364 sqft</td>\n",
       "    </tr>\n",
       "    <tr>\n",
       "      <th>1</th>\n",
       "      <td>4885 sqft</td>\n",
       "    </tr>\n",
       "    <tr>\n",
       "      <th>2</th>\n",
       "      <td>4885 sqft</td>\n",
       "    </tr>\n",
       "    <tr>\n",
       "      <th>3</th>\n",
       "      <td>4885 sqft</td>\n",
       "    </tr>\n",
       "    <tr>\n",
       "      <th>4</th>\n",
       "      <td>1219 sqft</td>\n",
       "    </tr>\n",
       "    <tr>\n",
       "      <th>...</th>\n",
       "      <td>...</td>\n",
       "    </tr>\n",
       "    <tr>\n",
       "      <th>295</th>\n",
       "      <td>3000 sqft</td>\n",
       "    </tr>\n",
       "    <tr>\n",
       "      <th>296</th>\n",
       "      <td>2344 sqft</td>\n",
       "    </tr>\n",
       "    <tr>\n",
       "      <th>297</th>\n",
       "      <td>856 sqft</td>\n",
       "    </tr>\n",
       "    <tr>\n",
       "      <th>298</th>\n",
       "      <td>735 sqft</td>\n",
       "    </tr>\n",
       "    <tr>\n",
       "      <th>299</th>\n",
       "      <td>1600 sqft</td>\n",
       "    </tr>\n",
       "  </tbody>\n",
       "</table>\n",
       "<p>300 rows × 1 columns</p>\n",
       "</div>"
      ],
      "text/plain": [
       "          SqFt\n",
       "0    3364 sqft\n",
       "1    4885 sqft\n",
       "2    4885 sqft\n",
       "3    4885 sqft\n",
       "4    1219 sqft\n",
       "..         ...\n",
       "295  3000 sqft\n",
       "296  2344 sqft\n",
       "297   856 sqft\n",
       "298   735 sqft\n",
       "299  1600 sqft\n",
       "\n",
       "[300 rows x 1 columns]"
      ]
     },
     "execution_count": 347,
     "metadata": {},
     "output_type": "execute_result"
    }
   ],
   "source": [
    "df"
   ]
  },
  {
   "cell_type": "code",
   "execution_count": 348,
   "id": "3a698bd3-0f56-4a1e-a383-511ab4890102",
   "metadata": {},
   "outputs": [],
   "source": [
    "def sqyrd_to_sqft(value):\n",
    "    if isinstance(value, str) and \"sqyrd\" in value.lower():\n",
    "        num = float(value.lower().replace(\"sqyrd\", \"\").strip())\n",
    "        return num * 9 \n",
    "    elif isinstance(value, str) and \"sqft\" in value.lower():\n",
    "        num = float(value.lower().replace(\"sqft\", \"\").strip())\n",
    "        return num\n",
    "    else:\n",
    "        return 0\n",
    "\n",
    "    return value "
   ]
  },
  {
   "cell_type": "code",
   "execution_count": 349,
   "id": "6ff56f65-af11-404f-b376-dc71262c1e02",
   "metadata": {},
   "outputs": [],
   "source": [
    "df[\"SqFt\"] = df[\"SqFt\"].apply(sqyrd_to_sqft)"
   ]
  },
  {
   "cell_type": "code",
   "execution_count": 350,
   "id": "3f3d4a67-c051-4007-8141-4d51d70094a3",
   "metadata": {},
   "outputs": [],
   "source": [
    "output_path = \"SqFt_c.csv\"\n",
    "df.to_csv(output_path, index=False)"
   ]
  },
  {
   "cell_type": "code",
   "execution_count": null,
   "id": "19f3b15d-4bcc-4b0f-96a5-97acf2dd0c75",
   "metadata": {},
   "outputs": [],
   "source": []
  }
 ],
 "metadata": {
  "kernelspec": {
   "display_name": "Python 3 (ipykernel)",
   "language": "python",
   "name": "python3"
  },
  "language_info": {
   "codemirror_mode": {
    "name": "ipython",
    "version": 3
   },
   "file_extension": ".py",
   "mimetype": "text/x-python",
   "name": "python",
   "nbconvert_exporter": "python",
   "pygments_lexer": "ipython3",
   "version": "3.12.9"
  }
 },
 "nbformat": 4,
 "nbformat_minor": 5
}
