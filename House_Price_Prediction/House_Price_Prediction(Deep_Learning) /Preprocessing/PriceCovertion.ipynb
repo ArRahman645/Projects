{
 "cells": [
  {
   "cell_type": "code",
   "execution_count": 866,
   "id": "35511a53-be5b-4626-a4aa-40bf9d205252",
   "metadata": {},
   "outputs": [],
   "source": [
    "import pandas as pd\n",
    "import numpy as np"
   ]
  },
  {
   "cell_type": "code",
   "execution_count": 867,
   "id": "674c870f-244a-4ce0-a074-37c7ee7c5058",
   "metadata": {},
   "outputs": [
    {
     "data": {
      "text/plain": [
       "Index(['Unnamed: 0', 'data2'], dtype='object')"
      ]
     },
     "execution_count": 867,
     "metadata": {},
     "output_type": "execute_result"
    }
   ],
   "source": [
    "df = pd.read_csv('Price.csv')\n",
    "df.columns"
   ]
  },
  {
   "cell_type": "code",
   "execution_count": 868,
   "id": "9b39d2fe-b068-4b61-a446-58105e1f66e4",
   "metadata": {},
   "outputs": [],
   "source": [
    "df.rename(columns={'Unnamed: 0':'col1','data2':'TotalPrice'},inplace=True)\n",
    "df = df.drop('col1',axis=1)"
   ]
  },
  {
   "cell_type": "code",
   "execution_count": 869,
   "id": "4d5c22ef-0dbb-4013-bcf0-1590495b2e2f",
   "metadata": {
    "editable": true,
    "slideshow": {
     "slide_type": ""
    },
    "tags": []
   },
   "outputs": [],
   "source": [
    "def PriceConversion(Price):\n",
    "    if isinstance(Price, str) and \"Lac\" in Price:\n",
    "        Lac_removed = Price.replace(\"Lac\",\"\").strip()\n",
    "        Rupee_removed = float(Lac_removed.replace(\"₹\",\"\").strip()) * 100000\n",
    "        return Rupee_removed\n",
    "    \n",
    "    elif isinstance(Price,str) and \"Cr\" in Price:\n",
    "        Cr_removed = Price.replace(\"Cr\",\"\").strip()\n",
    "        Rupee_removed = float(Cr_removed.replace(\"₹\",\"\").strip()) * 10000000\n",
    "        return Rupee_removed\n",
    "\n",
    "    else:\n",
    "        return 0"
   ]
  },
  {
   "cell_type": "code",
   "execution_count": 870,
   "id": "c2e7e8b6-6bd1-4451-8d5a-d2b5ede7e2f9",
   "metadata": {},
   "outputs": [],
   "source": [
    "def avg(value):\n",
    "    if value == 0:\n",
    "        num = np.mean(df['TotalPrice'])\n",
    "        return num\n",
    "    else:\n",
    "        return value"
   ]
  },
  {
   "cell_type": "code",
   "execution_count": 871,
   "id": "5eda036b-450c-4253-9523-ddfffc17f5ed",
   "metadata": {},
   "outputs": [],
   "source": [
    "df['TotalPrice'] = df['TotalPrice'].apply(PriceConversion).astype(int)"
   ]
  },
  {
   "cell_type": "code",
   "execution_count": 872,
   "id": "b44b8ccc-2fc8-4e5a-920a-8b1a127846f3",
   "metadata": {},
   "outputs": [],
   "source": [
    "df['TotalPrice'] = df['TotalPrice'].apply(avg).astype(int)"
   ]
  },
  {
   "cell_type": "code",
   "execution_count": 873,
   "id": "aab70eb8-2dde-4f7c-96d3-e6957c8afa68",
   "metadata": {},
   "outputs": [],
   "source": [
    "df.to_csv('Price_c.csv',index = False)"
   ]
  },
  {
   "cell_type": "code",
   "execution_count": null,
   "id": "c256b710-380c-46c1-8a83-1bb28123173d",
   "metadata": {},
   "outputs": [],
   "source": []
  }
 ],
 "metadata": {
  "kernelspec": {
   "display_name": "Python 3 (ipykernel)",
   "language": "python",
   "name": "python3"
  },
  "language_info": {
   "codemirror_mode": {
    "name": "ipython",
    "version": 3
   },
   "file_extension": ".py",
   "mimetype": "text/x-python",
   "name": "python",
   "nbconvert_exporter": "python",
   "pygments_lexer": "ipython3",
   "version": "3.12.9"
  }
 },
 "nbformat": 4,
 "nbformat_minor": 5
}
