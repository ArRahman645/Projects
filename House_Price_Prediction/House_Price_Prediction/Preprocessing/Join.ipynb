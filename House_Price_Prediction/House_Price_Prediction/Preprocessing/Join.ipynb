{
 "cells": [
  {
   "cell_type": "code",
   "execution_count": 1,
   "id": "086f8d0e-a1a8-4a16-a9c4-86843c9c5f04",
   "metadata": {},
   "outputs": [
    {
     "data": {
      "text/plain": [
       "(288, 6)"
      ]
     },
     "execution_count": 1,
     "metadata": {},
     "output_type": "execute_result"
    }
   ],
   "source": [
    "import pandas as pd\n",
    "import os\n",
    "\n",
    "# Load the CSV files\n",
    "house_info = pd.read_csv('HouseInfo.csv')\n",
    "price_info = pd.read_csv('Price_c.csv')\n",
    "sqrft_info = pd.read_csv('SqFt_c.csv')\n",
    "ppst_info = pd.read_csv('PricePerSqrFt_c.csv')\n",
    "\n",
    "# Find the lowest number of records among all DataFrames\n",
    "min_records = min(len(house_info), len(price_info), len(sqrft_info), len(ppst_info))\n",
    "\n",
    "# Reduce all DataFrames to the lowest number of records\n",
    "house_info = house_info.head(min_records)\n",
    "price_info = price_info.head(min_records)\n",
    "sqrft_info = sqrft_info.head(min_records)\n",
    "ppst_info = ppst_info.head(min_records)\n",
    "\n",
    "# Now join the DataFrames based on the row index\n",
    "combined_data = house_info.join(price_info).join(sqrft_info).join(ppst_info)\n",
    "\n",
    "# Move the 'Price' column to the last position\n",
    "# Get the list of columns\n",
    "columns = combined_data.columns.tolist()\n",
    "\n",
    "# Remove 'Price' from the list and add it back at the end\n",
    "columns.remove('TotalPrice')  # Assuming the price column is named 'TotalPrice'\n",
    "columns.append('TotalPrice')  # Move it to the end\n",
    "\n",
    "# Reorder the DataFrame columns\n",
    "combined_data = combined_data[columns]\n",
    "\n",
    "combined_data = combined_data.rename(columns = { 'ppsf':'PricePerSqrFt'})\n",
    "\n",
    "# Save the combined data to a new CSV file\n",
    "combined_data.to_csv('/home/ar/Documents/R_Language/House_Price_Data/Cleaned_Data/Kolkata_Data.csv', index=False)\n",
    "\n",
    "def delete_file(path):\n",
    "    for path in path:\n",
    "        os.remove(path)\n",
    "\n",
    "file = ['HouseInfo.csv','Price_c.csv','PricePerSqrFt_c.csv','SqFt_c.csv']\n",
    "delete_file(file)\n",
    "\n",
    "combined_data.shape"
   ]
  },
  {
   "cell_type": "code",
   "execution_count": 11,
   "id": "2c422767-d68f-4f60-ab0d-b503ae756264",
   "metadata": {},
   "outputs": [
    {
     "data": {
      "text/plain": [
       "(277, 6)"
      ]
     },
     "execution_count": 11,
     "metadata": {},
     "output_type": "execute_result"
    }
   ],
   "source": [
    "import pandas as pd\n",
    "import os\n",
    "\n",
    "# Load the CSV files\n",
    "bhk_info = pd.read_csv('BHK.csv')\n",
    "table = pd.read_csv('Mysore_Data.csv')\n",
    "\n",
    "table = table.rename(columns = {'Unnamed: 0' : 'col1'})\n",
    "table = table.drop('col1',axis=1)\n",
    "\n",
    "# Find the lowest number of records among all DataFrames\n",
    "min_records = len(table)\n",
    "\n",
    "# Reduce all DataFrames to the lowest number of records\n",
    "bhk_info = bhk_info.head(min_records)\n",
    "\n",
    "\n",
    "# Now join the DataFrames based on the row index\n",
    "combined_data = table.join(bhk_info)\n",
    "\n",
    "# Move the 'Price' column to the last position\n",
    "# Get the list of columns\n",
    "columns = combined_data.columns.tolist()\n",
    "\n",
    "# Remove 'Price' from the list and add it back at the end\n",
    "columns.remove('TotalPrice')  # Assuming the price column is named 'TotalPrice'\n",
    "columns.append('TotalPrice')  # Move it to the end\n",
    "\n",
    "# Reorder the DataFrame columns\n",
    "combined_data = combined_data[columns]\n",
    "\n",
    "# Save the combined data to a new CSV file\n",
    "combined_data.to_csv('/home/ar/Documents/R_Language/House_Price_Data/Cleaned_Data/Mysore_Data.csv', index=False)\n",
    "\n",
    "#combined_data.to_csv('MysoreData.csv')\n",
    "\n",
    "combined_data.shape"
   ]
  },
  {
   "cell_type": "code",
   "execution_count": null,
   "id": "6c09d887-f093-4d81-9329-4fd67ce63219",
   "metadata": {},
   "outputs": [],
   "source": []
  }
 ],
 "metadata": {
  "kernelspec": {
   "display_name": "Python 3 (ipykernel)",
   "language": "python",
   "name": "python3"
  },
  "language_info": {
   "codemirror_mode": {
    "name": "ipython",
    "version": 3
   },
   "file_extension": ".py",
   "mimetype": "text/x-python",
   "name": "python",
   "nbconvert_exporter": "python",
   "pygments_lexer": "ipython3",
   "version": "3.12.9"
  }
 },
 "nbformat": 4,
 "nbformat_minor": 5
}
