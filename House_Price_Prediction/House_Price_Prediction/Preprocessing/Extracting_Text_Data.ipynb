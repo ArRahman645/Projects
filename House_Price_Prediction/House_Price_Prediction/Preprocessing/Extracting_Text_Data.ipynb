{
 "cells": [
  {
   "cell_type": "code",
   "execution_count": 15,
   "id": "841e7803-98f0-41ba-afac-477bd2982986",
   "metadata": {},
   "outputs": [],
   "source": [
    "import pandas as pd\n",
    "import random"
   ]
  },
  {
   "cell_type": "code",
   "execution_count": 16,
   "id": "49609ef3-ff83-41a6-9aaa-e0441c91c458",
   "metadata": {},
   "outputs": [
    {
     "data": {
      "text/plain": [
       "Index(['Unnamed: 0', 'data1'], dtype='object')"
      ]
     },
     "execution_count": 16,
     "metadata": {},
     "output_type": "execute_result"
    }
   ],
   "source": [
    "data = pd.read_csv('HouseType.csv')\n",
    "data = pd.DataFrame(data)\n",
    "data.columns"
   ]
  },
  {
   "cell_type": "code",
   "execution_count": 17,
   "id": "11071029-7f21-4b56-8a67-e23db359e4d9",
   "metadata": {},
   "outputs": [
    {
     "data": {
      "text/plain": [
       "HouseDetails    object\n",
       "dtype: object"
      ]
     },
     "execution_count": 17,
     "metadata": {},
     "output_type": "execute_result"
    }
   ],
   "source": [
    "data = data.rename(columns = {'Unnamed: 0' : 'col1','data1' : 'HouseDetails'})\n",
    "data = data.drop('col1',axis=1)\n",
    "data.dtypes"
   ]
  },
  {
   "cell_type": "code",
   "execution_count": 4,
   "id": "24955303-74b5-4ea3-a684-f146aed0e884",
   "metadata": {},
   "outputs": [],
   "source": [
    "def Extract(Text):\n",
    "    Text = Text.replace(\" \",\",\")\n",
    "    Splitted_text = []\n",
    "    Splitted_Text = Text.split(',')\n",
    "    BHK = Splitted_Text[0]\n",
    "    if Splitted_Text[0] in range(1,10):\n",
    "        return BHK\n",
    "    else:\n",
    "        num = random.randint(1,5)\n",
    "        return num"
   ]
  },
  {
   "cell_type": "code",
   "execution_count": 5,
   "id": "ac23f809-4a1b-49bc-8f03-7c765a1e450b",
   "metadata": {},
   "outputs": [],
   "source": [
    "data[['BHK','PropertyType','Location']] = data['HouseDetails'].apply(Extract).apply(pd.Series)"
   ]
  },
  {
   "cell_type": "code",
   "execution_count": 6,
   "id": "94843032-f36e-4f94-a2b4-96efd21e7004",
   "metadata": {},
   "outputs": [],
   "source": [
    "data = data.drop('HouseDetails',axis=1)"
   ]
  },
  {
   "cell_type": "code",
   "execution_count": 7,
   "id": "ffdcbed2-1cac-4159-8e0c-956b8cb90d07",
   "metadata": {},
   "outputs": [],
   "source": [
    "data.to_csv('BHK.csv',index=False)"
   ]
  },
  {
   "cell_type": "code",
   "execution_count": 8,
   "id": "af314d5c-e3ef-4a5b-9ec6-b25a7bb4bad3",
   "metadata": {},
   "outputs": [
    {
     "name": "stdout",
     "output_type": "stream",
     "text": [
      "HouseInfo Is Stored Successfully!!!\n"
     ]
    }
   ],
   "source": [
    "print('HouseInfo Is Stored Successfully!!!')"
   ]
  },
  {
   "cell_type": "code",
   "execution_count": null,
   "id": "5e6b15b3-31c0-4133-abc9-01be899697e1",
   "metadata": {},
   "outputs": [],
   "source": []
  }
 ],
 "metadata": {
  "kernelspec": {
   "display_name": "Python 3 (ipykernel)",
   "language": "python",
   "name": "python3"
  },
  "language_info": {
   "codemirror_mode": {
    "name": "ipython",
    "version": 3
   },
   "file_extension": ".py",
   "mimetype": "text/x-python",
   "name": "python",
   "nbconvert_exporter": "python",
   "pygments_lexer": "ipython3",
   "version": "3.12.9"
  }
 },
 "nbformat": 4,
 "nbformat_minor": 5
}
