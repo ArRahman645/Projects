{
 "cells": [
  {
   "cell_type": "code",
   "execution_count": 93,
   "id": "7931d1a6-ed09-4060-a813-eb6f823dea1c",
   "metadata": {},
   "outputs": [],
   "source": [
    "import pandas as pd   "
   ]
  },
  {
   "cell_type": "code",
   "execution_count": 94,
   "id": "a87eca1d-7d46-4d93-ae8a-d3f18f80765f",
   "metadata": {},
   "outputs": [
    {
     "data": {
      "text/plain": [
       "Index(['Unnamed: 0', 'data3'], dtype='object')"
      ]
     },
     "execution_count": 94,
     "metadata": {},
     "output_type": "execute_result"
    }
   ],
   "source": [
    "file_path = \"PricePerSqrFt.csv\"\n",
    "df = pd.read_csv(file_path)\n",
    "df.columns"
   ]
  },
  {
   "cell_type": "code",
   "execution_count": 95,
   "id": "60367759-1def-4388-b89d-4e8108662a84",
   "metadata": {},
   "outputs": [],
   "source": [
    "df.rename(columns={\"Unnamed: 0\": \"col1\",\"data3\":\"ppsf\"}, inplace=True)\n",
    "df = df.drop(\"col1\", axis=1)"
   ]
  },
  {
   "cell_type": "code",
   "execution_count": 96,
   "id": "a859f18a-4a71-488a-8bb6-4a695fa59c8e",
   "metadata": {},
   "outputs": [],
   "source": [
    "def remove_dollar_text(value):\n",
    "    if isinstance(value, str) and \"per sqft\" in value.lower():\n",
    "        num1 = value.lower().replace(\"per sqft\",\" \").strip()\n",
    "    if isinstance(num1,str) and \"₹\" in num1:\n",
    "        num2 = int(num1.replace(\"₹\",\" \").strip())\n",
    "        return num2\n",
    "    else:\n",
    "        return 0\n",
    "\n",
    "    return value"
   ]
  },
  {
   "cell_type": "code",
   "execution_count": 97,
   "id": "32eadfc2-8ff6-4afd-98b4-f748bb3fceb7",
   "metadata": {},
   "outputs": [],
   "source": [
    "df[\"ppsf\"] = df[\"ppsf\"].apply(remove_dollar_text)"
   ]
  },
  {
   "cell_type": "code",
   "execution_count": 98,
   "id": "e5a009b4-a737-430d-91a5-8c93f614dc9f",
   "metadata": {},
   "outputs": [],
   "source": [
    "output_path = \"PricePerSqrFt_c.csv\"\n",
    "df.to_csv(output_path, index=False)"
   ]
  },
  {
   "cell_type": "code",
   "execution_count": null,
   "id": "93798328-58ae-4987-b3e5-d6de1ccc046d",
   "metadata": {},
   "outputs": [],
   "source": []
  }
 ],
 "metadata": {
  "kernelspec": {
   "display_name": "Python 3 (ipykernel)",
   "language": "python",
   "name": "python3"
  },
  "language_info": {
   "codemirror_mode": {
    "name": "ipython",
    "version": 3
   },
   "file_extension": ".py",
   "mimetype": "text/x-python",
   "name": "python",
   "nbconvert_exporter": "python",
   "pygments_lexer": "ipython3",
   "version": "3.12.9"
  }
 },
 "nbformat": 4,
 "nbformat_minor": 5
}
